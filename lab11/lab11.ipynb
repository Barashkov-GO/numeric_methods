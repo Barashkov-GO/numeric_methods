{
  "nbformat": 4,
  "nbformat_minor": 0,
  "metadata": {
    "colab": {
      "provenance": []
    },
    "kernelspec": {
      "name": "python3",
      "display_name": "Python 3"
    },
    "language_info": {
      "name": "python"
    }
  },
  "cells": [
    {
      "cell_type": "markdown",
      "source": [
        "**Лабораторная работа 11**\n",
        "\n",
        "Применение метода LU разложения\n",
        "\n",
        "\n",
        "> Вариант 9\n",
        "\n",
        "Поиск обратной матрицы с помощью LU разложения"
      ],
      "metadata": {
        "id": "0e0y8jueRrOi"
      }
    },
    {
      "cell_type": "code",
      "execution_count": null,
      "metadata": {
        "colab": {
          "base_uri": "https://localhost:8080/"
        },
        "id": "6hwcdLelCoAZ",
        "outputId": "878de9a4-1778-4f43-a9e1-efcf08241c75"
      },
      "outputs": [
        {
          "output_type": "stream",
          "name": "stdout",
          "text": [
            "[[0.20950226 0.30817279 1.959043   1.5062472  1.90859861]\n",
            " [1.38112027 0.97145501 1.60295762 1.03901746 0.92888024]\n",
            " [0.4970808  0.87956707 1.84961282 0.58595064 1.45534095]\n",
            " [0.12393364 0.53561732 0.92594671 0.13070371 0.60467626]\n",
            " [1.52797716 0.58847302 0.70257241 0.18348447 1.43661806]]\n",
            "[1.06348021 1.13126378 0.289465   0.02407191 0.36629176]\n"
          ]
        }
      ],
      "source": [
        "import random\n",
        "import numpy\n",
        "import matplotlib.pyplot as plt\n",
        "\n",
        "def rand(a, b):\n",
        "  return random.random() * (b - a) + a\n",
        "\n",
        "def generate_vector(n, a, b):\n",
        "  res_s = [0] * n\n",
        "  for j in range(n):\n",
        "    res_s[j] = rand(a, b)\n",
        "  return numpy.array(res_s)\n",
        "\n",
        "def generate_matrix(n, a, b):\n",
        "  res = []\n",
        "  for i in range(n):\n",
        "    res_s = [0] * n\n",
        "    for j in range(n):\n",
        "      res_s[j] = rand(a, b)\n",
        "    res.append(res_s)\n",
        "    \n",
        "  return numpy.array(res)\n",
        "\n",
        "print(generate_matrix(5, 0, 2))\n",
        "print(generate_vector(5, 0, 2))"
      ]
    },
    {
      "cell_type": "code",
      "source": [
        "N = 5\n",
        "A = generate_matrix(N, -10, 10)\n",
        "b = generate_vector(N, -5, 5)\n",
        "\n",
        "def get_split(A):\n",
        "  n = len(A)\n",
        "  L = numpy.eye(n)\n",
        "  U = numpy.zeros((n, n))\n",
        "  \n",
        "  for i in range(n):\n",
        "    for j in range(n):\n",
        "      if i <= j:\n",
        "        sum = 0.0\n",
        "        for k in range(i):\n",
        "          sum += L[i][k] * U[k][j]\n",
        "        U[i][j] = A[i][j] - sum\n",
        "\n",
        "      else:\n",
        "        sum = 0.0\n",
        "        for k in range(j):\n",
        "          sum += L[i][k] * U[k][j]\n",
        "        L[i][j] = 1 / U[j][j] * (A[i][j] - sum)\n",
        "\n",
        "  return numpy.array(L), numpy.array(U)\n",
        "\n",
        "\n",
        "L, U = get_split(A)\n",
        "print('A-matrix: \\n{}\\n\\nL-matrix: \\n{}\\n\\n U-matrix: \\n{}\\n\\n'.format(A, L, U))\n",
        "res = A - numpy.matmul(L, U)\n",
        "print('A - LU: \\n{}\\n\\n'.format(res))\n",
        "print('A - LU norm: \\n{}\\n\\n'.format(numpy.linalg.norm(res)))\n",
        "\n"
      ],
      "metadata": {
        "colab": {
          "base_uri": "https://localhost:8080/"
        },
        "id": "ZNffGOuXDoqJ",
        "outputId": "409fc553-de37-4072-f0be-0961e49371c6"
      },
      "execution_count": null,
      "outputs": [
        {
          "output_type": "stream",
          "name": "stdout",
          "text": [
            "A-matrix: \n",
            "[[-9.12885639  3.64338973  5.3638284  -9.72072995 -3.28133939]\n",
            " [-1.60359654 -8.61460636  7.95990314  6.11153798  9.86666719]\n",
            " [-4.08513687 -1.12503337 -5.88219386  6.34135952 -6.1055778 ]\n",
            " [ 4.34731774  0.59226716 -1.63981088 -3.73732246  6.92298201]\n",
            " [-1.00788597 -8.74176829  5.0561301  -4.8889731  -7.62959201]]\n",
            "\n",
            "L-matrix: \n",
            "[[ 1.          0.          0.          0.          0.        ]\n",
            " [ 0.17566237  1.          0.          0.          0.        ]\n",
            " [ 0.44749711  0.2977369   1.          0.          0.        ]\n",
            " [-0.47621712 -0.25147586 -0.2583239   1.          0.        ]\n",
            " [ 0.1104066   0.98805025  0.23813279  3.19193973  1.        ]]\n",
            "\n",
            " U-matrix: \n",
            "[[ -9.12885639   3.64338973   5.3638284   -9.72072995  -3.28133939]\n",
            " [  0.          -9.25461283   7.01768034   7.81910443  10.44307504]\n",
            " [  0.           0.         -10.37191398   8.36332217  -7.74647671]\n",
            " [  0.           0.           0.          -4.23973849   5.98543323]\n",
            " [  0.           0.           0.           0.         -34.84604546]]\n",
            "\n",
            "\n",
            "A - LU: \n",
            "[[ 0.00000000e+00  0.00000000e+00  0.00000000e+00  0.00000000e+00\n",
            "   0.00000000e+00]\n",
            " [ 0.00000000e+00  0.00000000e+00  0.00000000e+00  0.00000000e+00\n",
            "   0.00000000e+00]\n",
            " [ 0.00000000e+00  2.22044605e-16  8.88178420e-16  0.00000000e+00\n",
            "   0.00000000e+00]\n",
            " [ 0.00000000e+00  0.00000000e+00  2.22044605e-16  8.88178420e-16\n",
            "   8.88178420e-16]\n",
            " [ 0.00000000e+00  0.00000000e+00  0.00000000e+00  8.88178420e-16\n",
            "  -2.66453526e-15]]\n",
            "\n",
            "\n",
            "A - LU norm: \n",
            "3.2177320244274195e-15\n",
            "\n",
            "\n"
          ]
        }
      ]
    },
    {
      "cell_type": "code",
      "source": [
        "def solve_lower(L, f):\n",
        "  res = []\n",
        "  for i in range(len(L)):\n",
        "    sum = 0.0\n",
        "    for k in range(i):\n",
        "      sum += L[i][k] * res[k]\n",
        "    res.append(f[i] - sum)\n",
        "\n",
        "  return numpy.array(res)\n",
        "\n",
        "\n",
        "def solve_upper(U, f):\n",
        "  res = [0] * len(f)\n",
        "  for i in range(len(U) - 1, -1, -1):\n",
        "    sum = 0.0\n",
        "    for k in range(i + 1, len(U)):\n",
        "      sum += U[i][k] * res[k]\n",
        "    res[i] = (f[i] - sum) / U[i][i]\n",
        "    \n",
        "  return numpy.array(res)\n"
      ],
      "metadata": {
        "id": "0AbLg3lpE_oI"
      },
      "execution_count": null,
      "outputs": []
    },
    {
      "cell_type": "code",
      "source": [
        "A = generate_matrix(10, -10, 10)\n",
        "f = generate_vector(10, -5, 5)\n",
        "L, U = get_split(A)\n",
        "\n",
        "print(solve_lower(L, f))\n",
        "print(numpy.linalg.solve(L, f))\n",
        "\n",
        "\n",
        "\n",
        "print(solve_upper(U, f))\n",
        "print(numpy.linalg.solve(U, f))\n"
      ],
      "metadata": {
        "colab": {
          "base_uri": "https://localhost:8080/"
        },
        "id": "dyRrcxiBaxIb",
        "outputId": "cc5ef65e-6746-46f7-db58-a731e4909c4e"
      },
      "execution_count": null,
      "outputs": [
        {
          "output_type": "stream",
          "name": "stdout",
          "text": [
            "[  -0.23318411    1.43235465 -151.21635757    7.85071827   -3.35648363\n",
            "    1.28149962    3.18358722    4.79581407    1.03264764   -3.60143864]\n",
            "[  -0.23318411    1.43235465 -151.21635757    7.85071827   -3.35648363\n",
            "    1.28149962    3.18358722    4.79581407    1.03264764   -3.60143864]\n",
            "[-33.94722394  -0.94928926  -0.32070446   0.61528283  -0.17800706\n",
            "  -0.24359359   0.59238798  -0.15238917  -0.43570721   0.0748861 ]\n",
            "[-33.94722394  -0.94928926  -0.32070446   0.61528283  -0.17800706\n",
            "  -0.24359359   0.59238798  -0.15238917  -0.43570721   0.0748861 ]\n"
          ]
        }
      ]
    },
    {
      "cell_type": "code",
      "source": [
        "def get_inverse(A):\n",
        "  L, U = get_split(A)\n",
        "  n = len(A)\n",
        "  res = numpy.zeros((n, n))\n",
        "\n",
        "  res[0][0] = 1 / U[0][0]\n",
        "\n",
        "\n",
        "  for i in range(n):\n",
        "    for j in range(i):\n",
        "      sum = 0.0\n",
        "      for k in range(j + 1, n):\n",
        "        sum += L[k][j] * res[i][k]\n",
        "      res[i][j] = - sum\n",
        "  \n",
        "  for i in range(n):\n",
        "    for j in range(n):\n",
        "      if i < j:\n",
        "        sum = 0.0\n",
        "        for k in range(i + 1, n):\n",
        "          sum += U[i][k] * res[k][j]\n",
        "        res[i][j] = - sum / U[i][i]\n",
        "\n",
        "      elif i == j:\n",
        "        sum = 0.0\n",
        "        for k in range(j + 1, n):\n",
        "          sum += U[j][k] * res[k][j]\n",
        "        res[j][i] = (1 - sum) / U[j][j]\n",
        "\n",
        "      else:\n",
        "        sum = 0.0\n",
        "        for k in range(j + 1, n):\n",
        "          sum += L[k][j] * res[i][k]\n",
        "        res[i][j] = - sum\n",
        "\n",
        "    return numpy.array(res)\n",
        "\n",
        "\n",
        "\n",
        "def get_inverse_2(A):\n",
        "  L, U = get_split(A)\n",
        "  n = len(A)\n",
        "  xs = numpy.zeros((n, n))\n",
        "  for i in range(n):\n",
        "    e_i = numpy.zeros(n)\n",
        "    e_i[i] = 1.0\n",
        "    xs[i] = solve_upper(U, solve_lower(L, e_i))\n",
        "\n",
        "  return xs.transpose()\n",
        "\n",
        "\n",
        "\n",
        "\n",
        "\n"
      ],
      "metadata": {
        "id": "pmXnVJgYOpNJ"
      },
      "execution_count": null,
      "outputs": []
    },
    {
      "cell_type": "code",
      "source": [
        "A = generate_matrix(3, -10, 10)\n",
        "\n",
        "inv = get_inverse_2(A)\n",
        "inv_abs = numpy.linalg.inv(A)\n",
        "\n",
        "print(numpy.linalg.norm(inv - inv_abs))"
      ],
      "metadata": {
        "colab": {
          "base_uri": "https://localhost:8080/"
        },
        "id": "0H-idrPuHdV_",
        "outputId": "ac4f1c65-6ea3-4e7b-e4a6-7633a4f50312"
      },
      "execution_count": null,
      "outputs": [
        {
          "output_type": "stream",
          "name": "stdout",
          "text": [
            "1.3000991304329292e-14\n"
          ]
        }
      ]
    },
    {
      "cell_type": "code",
      "source": [
        "def main():\n",
        "  x = []\n",
        "  y = []\n",
        "  for i in range(3, 100):\n",
        "    x.append(i)\n",
        "    A = generate_matrix(i, -10, 10)\n",
        "    L, U = get_split(A)\n",
        "    y.append(numpy.linalg.norm(A - numpy.matmul(L, U)))\n",
        "\n",
        "  plt.figure(figsize=(30, 10))\n",
        "  plt.plot(x, y)\n",
        "\n",
        "main()"
      ],
      "metadata": {
        "colab": {
          "base_uri": "https://localhost:8080/",
          "height": 602
        },
        "id": "D5D1EtSXDf6F",
        "outputId": "17ea19ba-4fc9-488b-97e8-e09086538eb8"
      },
      "execution_count": null,
      "outputs": [
        {
          "output_type": "display_data",
          "data": {
            "text/plain": [
              "<Figure size 2160x720 with 1 Axes>"
            ],
            "image/png": "[encoded data removed]"
          },
          "metadata": {
            "needs_background": "light"
          }
        }
      ]
    }
  ]
}